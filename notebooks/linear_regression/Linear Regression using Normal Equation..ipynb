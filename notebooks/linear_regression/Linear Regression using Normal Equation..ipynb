{
 "cells": [
  {
   "cell_type": "markdown",
   "metadata": {},
   "source": [
    "<font size=\"5\">Linear Regression using Normal Equation / Closed Form</font><br>\n",
    "\n",
    "It is a method to solve for parameters $(\\theta)$ analytically\n",
    "\n",
    "We have to solve the equation :- <br>\n",
    "$\\theta = (X^TX)^{-1}  X^Ty$ <br>\n",
    "\n",
    "where : <br>\n",
    "$X$  is a $m$ x $(n+1)$ matrix containing all the feature values of training set.<br>\n",
    "$X^T$  is transpose of $X$ matrix.<br>\n",
    "$y$ is a vector i.e ($m$ x $1$) matrix containing values of target variable<br>\n",
    "\n",
    "Here, $m$ is no of training examples and $n$ is number of features."
   ]
  },
  {
   "cell_type": "code",
   "execution_count": 1,
   "metadata": {},
   "outputs": [],
   "source": [
    "#import required packages\n",
    "import numpy as np\n",
    "import matplotlib.pyplot as plt\n",
    "import pandas as pd\n",
    "from sklearn import datasets"
   ]
  },
  {
   "cell_type": "code",
   "execution_count": 2,
   "metadata": {},
   "outputs": [
    {
     "data": {
      "text/plain": [
       "array([45.41973014, 54.35163488, 44.1640495 , 58.16847072, 56.72720806,\n",
       "       48.95588857, 44.68719623, 60.29732685, 45.61864377, 38.81681754,\n",
       "       66.18981661, 65.41605175, 47.48120861, 41.57564262, 51.84518691,\n",
       "       59.37082201, 57.31000344, 63.61556125, 46.73761941, 50.55676015,\n",
       "       52.22399609, 35.56783005, 42.43647694, 58.16454011, 57.50444762,\n",
       "       45.44053073, 61.89622268, 33.09383174, 36.43600951, 37.67565486,\n",
       "       44.55560838, 43.31828263, 50.07314563, 43.87061265, 62.99748075,\n",
       "       32.66904376, 40.16689901, 53.57507753, 33.86421497, 64.70713867,\n",
       "       38.11982403, 44.50253806, 40.59953838, 41.72067636, 51.08863468,\n",
       "       55.0780959 , 41.37772653, 62.49469743, 49.20388754, 41.10268519,\n",
       "       41.18201611, 50.18638949, 52.37844622, 50.13548549, 33.64470601,\n",
       "       39.55790122, 56.13038882, 57.36205213, 60.26921439, 35.67809389,\n",
       "       31.588117  , 53.66093226, 46.68222865, 43.10782022, 70.34607562,\n",
       "       44.49285588, 57.5045333 , 36.93007661, 55.80573336, 38.95476907,\n",
       "       56.9012147 , 56.86890066, 34.3331247 , 59.04974121, 57.78822399,\n",
       "       54.28232871, 51.0887199 , 50.28283635, 44.21174175, 38.00548801,\n",
       "       32.94047994, 53.69163957, 68.76573427, 46.2309665 , 68.31936082,\n",
       "       50.03017434, 49.23976534, 50.03957594, 48.14985889, 25.12848465])"
      ]
     },
     "execution_count": 2,
     "metadata": {},
     "output_type": "execute_result"
    }
   ],
   "source": [
    "#get data in place\n",
    "points = np.genfromtxt(\"../../data/data.csv\",delimiter=\",\")\n",
    "X = points[:,0]\n",
    "Y = points[:,1]\n",
    "\n",
    "X_test = X[0:10]\n",
    "Y_test = Y[0:10]\n",
    "\n",
    "X_train = X[10:100]\n",
    "Y_train = Y[10:100]\n",
    "\n",
    "X_train\n"
   ]
  },
  {
   "cell_type": "markdown",
   "metadata": {},
   "source": [
    "<font size=\"4\">Prepare matrix X</font><br>\n",
    "For preparing matix X, we must convert vector X to a matrix of 2 columns.<br>\n",
    "Column 1 i.e $X_{0}$ must be a column of ones."
   ]
  },
  {
   "cell_type": "code",
   "execution_count": 3,
   "metadata": {},
   "outputs": [
    {
     "data": {
      "text/plain": [
       "array([[ 1.        , 45.41973014],\n",
       "       [ 1.        , 54.35163488],\n",
       "       [ 1.        , 44.1640495 ],\n",
       "       [ 1.        , 58.16847072],\n",
       "       [ 1.        , 56.72720806],\n",
       "       [ 1.        , 48.95588857],\n",
       "       [ 1.        , 44.68719623],\n",
       "       [ 1.        , 60.29732685],\n",
       "       [ 1.        , 45.61864377],\n",
       "       [ 1.        , 38.81681754],\n",
       "       [ 1.        , 66.18981661],\n",
       "       [ 1.        , 65.41605175],\n",
       "       [ 1.        , 47.48120861],\n",
       "       [ 1.        , 41.57564262],\n",
       "       [ 1.        , 51.84518691],\n",
       "       [ 1.        , 59.37082201],\n",
       "       [ 1.        , 57.31000344],\n",
       "       [ 1.        , 63.61556125],\n",
       "       [ 1.        , 46.73761941],\n",
       "       [ 1.        , 50.55676015],\n",
       "       [ 1.        , 52.22399609],\n",
       "       [ 1.        , 35.56783005],\n",
       "       [ 1.        , 42.43647694],\n",
       "       [ 1.        , 58.16454011],\n",
       "       [ 1.        , 57.50444762],\n",
       "       [ 1.        , 45.44053073],\n",
       "       [ 1.        , 61.89622268],\n",
       "       [ 1.        , 33.09383174],\n",
       "       [ 1.        , 36.43600951],\n",
       "       [ 1.        , 37.67565486],\n",
       "       [ 1.        , 44.55560838],\n",
       "       [ 1.        , 43.31828263],\n",
       "       [ 1.        , 50.07314563],\n",
       "       [ 1.        , 43.87061265],\n",
       "       [ 1.        , 62.99748075],\n",
       "       [ 1.        , 32.66904376],\n",
       "       [ 1.        , 40.16689901],\n",
       "       [ 1.        , 53.57507753],\n",
       "       [ 1.        , 33.86421497],\n",
       "       [ 1.        , 64.70713867],\n",
       "       [ 1.        , 38.11982403],\n",
       "       [ 1.        , 44.50253806],\n",
       "       [ 1.        , 40.59953838],\n",
       "       [ 1.        , 41.72067636],\n",
       "       [ 1.        , 51.08863468],\n",
       "       [ 1.        , 55.0780959 ],\n",
       "       [ 1.        , 41.37772653],\n",
       "       [ 1.        , 62.49469743],\n",
       "       [ 1.        , 49.20388754],\n",
       "       [ 1.        , 41.10268519],\n",
       "       [ 1.        , 41.18201611],\n",
       "       [ 1.        , 50.18638949],\n",
       "       [ 1.        , 52.37844622],\n",
       "       [ 1.        , 50.13548549],\n",
       "       [ 1.        , 33.64470601],\n",
       "       [ 1.        , 39.55790122],\n",
       "       [ 1.        , 56.13038882],\n",
       "       [ 1.        , 57.36205213],\n",
       "       [ 1.        , 60.26921439],\n",
       "       [ 1.        , 35.67809389],\n",
       "       [ 1.        , 31.588117  ],\n",
       "       [ 1.        , 53.66093226],\n",
       "       [ 1.        , 46.68222865],\n",
       "       [ 1.        , 43.10782022],\n",
       "       [ 1.        , 70.34607562],\n",
       "       [ 1.        , 44.49285588],\n",
       "       [ 1.        , 57.5045333 ],\n",
       "       [ 1.        , 36.93007661],\n",
       "       [ 1.        , 55.80573336],\n",
       "       [ 1.        , 38.95476907],\n",
       "       [ 1.        , 56.9012147 ],\n",
       "       [ 1.        , 56.86890066],\n",
       "       [ 1.        , 34.3331247 ],\n",
       "       [ 1.        , 59.04974121],\n",
       "       [ 1.        , 57.78822399],\n",
       "       [ 1.        , 54.28232871],\n",
       "       [ 1.        , 51.0887199 ],\n",
       "       [ 1.        , 50.28283635],\n",
       "       [ 1.        , 44.21174175],\n",
       "       [ 1.        , 38.00548801],\n",
       "       [ 1.        , 32.94047994],\n",
       "       [ 1.        , 53.69163957],\n",
       "       [ 1.        , 68.76573427],\n",
       "       [ 1.        , 46.2309665 ],\n",
       "       [ 1.        , 68.31936082],\n",
       "       [ 1.        , 50.03017434],\n",
       "       [ 1.        , 49.23976534],\n",
       "       [ 1.        , 50.03957594],\n",
       "       [ 1.        , 48.14985889],\n",
       "       [ 1.        , 25.12848465]])"
      ]
     },
     "execution_count": 3,
     "metadata": {},
     "output_type": "execute_result"
    }
   ],
   "source": [
    "#converting vectors to a column matrix\n",
    "X0 = np.ones((X_train.shape[0],1))\n",
    "X1 = np.reshape(X_train,(X_train.shape[0],1))\n",
    "\n",
    "#use hstack to combine both matrices\n",
    "X_mat = np.hstack((X0,X1))\n",
    "X_mat"
   ]
  },
  {
   "cell_type": "code",
   "execution_count": 4,
   "metadata": {},
   "outputs": [
    {
     "data": {
      "text/plain": [
       "array([[ 55.16567715],\n",
       "       [ 82.47884676],\n",
       "       [ 62.00892325],\n",
       "       [ 75.39287043],\n",
       "       [ 81.43619216],\n",
       "       [ 60.72360244],\n",
       "       [ 82.89250373],\n",
       "       [ 97.37989686],\n",
       "       [ 48.84715332],\n",
       "       [ 56.87721319],\n",
       "       [ 83.87856466],\n",
       "       [118.5912173 ],\n",
       "       [ 57.25181946],\n",
       "       [ 51.39174408],\n",
       "       [ 75.38065167],\n",
       "       [ 74.76556403],\n",
       "       [ 95.45505292],\n",
       "       [ 95.22936602],\n",
       "       [ 79.05240617],\n",
       "       [ 83.43207142],\n",
       "       [ 63.35879032],\n",
       "       [ 41.4128853 ],\n",
       "       [ 76.61734128],\n",
       "       [ 96.76956643],\n",
       "       [ 74.08413012],\n",
       "       [ 66.58814441],\n",
       "       [ 77.76848242],\n",
       "       [ 50.71958891],\n",
       "       [ 62.12457082],\n",
       "       [ 60.81024665],\n",
       "       [ 52.68298337],\n",
       "       [ 58.56982472],\n",
       "       [ 82.90598149],\n",
       "       [ 61.4247098 ],\n",
       "       [115.2441528 ],\n",
       "       [ 45.57058882],\n",
       "       [ 54.0840548 ],\n",
       "       [ 87.99445276],\n",
       "       [ 52.72549438],\n",
       "       [ 93.57611869],\n",
       "       [ 80.16627545],\n",
       "       [ 65.10171157],\n",
       "       [ 65.56230126],\n",
       "       [ 65.28088692],\n",
       "       [ 73.43464155],\n",
       "       [ 71.13972786],\n",
       "       [ 79.10282968],\n",
       "       [ 86.52053844],\n",
       "       [ 84.74269781],\n",
       "       [ 59.35885025],\n",
       "       [ 61.68403752],\n",
       "       [ 69.84760416],\n",
       "       [ 86.09829121],\n",
       "       [ 59.10883927],\n",
       "       [ 69.89968164],\n",
       "       [ 44.86249071],\n",
       "       [ 85.49806778],\n",
       "       [ 95.53668685],\n",
       "       [ 70.25193442],\n",
       "       [ 52.72173496],\n",
       "       [ 50.39267014],\n",
       "       [ 63.64239878],\n",
       "       [ 72.24725107],\n",
       "       [ 57.81251298],\n",
       "       [104.25710159],\n",
       "       [ 86.64202032],\n",
       "       [ 91.486778  ],\n",
       "       [ 55.23166089],\n",
       "       [ 79.55043668],\n",
       "       [ 44.84712424],\n",
       "       [ 80.20752314],\n",
       "       [ 83.14274979],\n",
       "       [ 55.72348926],\n",
       "       [ 77.63418251],\n",
       "       [ 99.05141484],\n",
       "       [ 79.12064627],\n",
       "       [ 69.58889785],\n",
       "       [ 69.51050331],\n",
       "       [ 73.68756432],\n",
       "       [ 61.36690454],\n",
       "       [ 67.17065577],\n",
       "       [ 85.66820315],\n",
       "       [114.85387123],\n",
       "       [ 90.12357207],\n",
       "       [ 97.91982104],\n",
       "       [ 81.53699078],\n",
       "       [ 72.11183247],\n",
       "       [ 85.23200734],\n",
       "       [ 66.22495789],\n",
       "       [ 53.45439421]])"
      ]
     },
     "execution_count": 4,
     "metadata": {},
     "output_type": "execute_result"
    }
   ],
   "source": [
    "#get matrix y\n",
    "Y_mat = np.reshape(Y_train,(Y_train.shape[0],1))\n",
    "Y_mat"
   ]
  },
  {
   "cell_type": "code",
   "execution_count": 5,
   "metadata": {},
   "outputs": [
    {
     "data": {
      "text/plain": [
       "array([[8.09020494],\n",
       "       [1.33368278]])"
      ]
     },
     "execution_count": 5,
     "metadata": {},
     "output_type": "execute_result"
    }
   ],
   "source": [
    "#get theta matrix using training examples\n",
    "\n",
    "X_t = X_mat.transpose()\n",
    "prt1  = np.linalg.inv(np.dot(X_t , X_mat))\n",
    "prt2 = np.dot(prt1,X_t)\n",
    "\n",
    "theta = np.dot(prt2,Y_mat)\n",
    "\n",
    "theta\n"
   ]
  },
  {
   "cell_type": "markdown",
   "metadata": {},
   "source": [
    "<font size=\"4\">Time to get answers from our model !</font><br>\n",
    "We observe that :\n",
    "$h_{\\theta}(x) = \\theta_{0} * (x_{0}) + \\theta_{1} * (x_{1}) $  <br>\n",
    "here $x_{0} = 1$ <br>\n",
    "Remember we had added an extra column of ones to our X_train matrix earlier... that was done to satisfy this condition now...<br>\n",
    "We can see that $h_{\\theta}(x)$ is product of $\\theta$ matrix and $X$ matrix <br>\n",
    "Hence product of $X$ matrix and $\\theta$ matrix will give a matrix with 1 column containing values o f $Y$ for the given $X$ values in $X$ matrix used."
   ]
  },
  {
   "cell_type": "code",
   "execution_count": 6,
   "metadata": {},
   "outputs": [
    {
     "name": "stdout",
     "output_type": "stream",
     "text": [
      "mean squared error = [133.65130154]\n"
     ]
    }
   ],
   "source": [
    "#get value of y for test data \n",
    "X0_test = np.ones((X_test.shape[0],1))\n",
    "X1_test = np.reshape(X_test,(X_test.shape[0],1))\n",
    "\n",
    "#use hstack to combine both matrices\n",
    "X_test_mat = np.hstack((X0_test,X1_test))\n",
    "\n",
    "#get answers for test data from the model\n",
    "Y_regression = np.dot(X_test_mat,theta)\n",
    "\n",
    "Y_test = np.reshape(Y_test,(Y_test.shape[0],1))\n",
    "\n",
    "#for testing accuracy of the model\n",
    "mean_squared_error = 0; \n",
    "for i in range (0,Y_test.shape[0]):\n",
    "    diff = Y_test[i] - Y_regression[i]\n",
    "    mean_squared_error += diff*diff\n",
    "    \n",
    "mean_squared_error = mean_squared_error/Y_test.shape[0]\n",
    "\n",
    "print(\"mean squared error = {0}\".format(mean_squared_error))\n",
    "    "
   ]
  },
  {
   "cell_type": "code",
   "execution_count": 7,
   "metadata": {},
   "outputs": [
    {
     "data": {
      "image/png": "[encoded data removed]",
      "text/plain": [
       "<Figure size 432x288 with 1 Axes>"
      ]
     },
     "metadata": {
      "needs_background": "light"
     },
     "output_type": "display_data"
    }
   ],
   "source": [
    "#plot solution\n",
    "y_intercept = theta[0]\n",
    "slope = theta[1]\n",
    "\n",
    "plt.figure()\n",
    "plt.scatter(X,Y)\n",
    "\n",
    "x = np.linspace(20,80,10)\n",
    "y = slope*x+y_intercept\n",
    "plt.plot(x, y, '-r', label='y=2x+1')\n",
    "plt.xlabel('x', color='#1C2833')\n",
    "plt.ylabel('y', color='#1C2833')\n",
    "plt.legend(loc='upper left')\n",
    "plt.grid()\n",
    "\n",
    "plt.show()\n"
   ]
  }
 ],
 "metadata": {
  "kernelspec": {
   "display_name": "Python 3",
   "language": "python",
   "name": "python3"
  },
  "language_info": {
   "codemirror_mode": {
    "name": "ipython",
    "version": 3
   },
   "file_extension": ".py",
   "mimetype": "text/x-python",
   "name": "python",
   "nbconvert_exporter": "python",
   "pygments_lexer": "ipython3",
   "version": "3.7.3"
  }
 },
 "nbformat": 4,
 "nbformat_minor": 2
}
